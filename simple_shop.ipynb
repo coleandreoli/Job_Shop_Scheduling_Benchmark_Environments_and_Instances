{
 "cells": [
  {
   "cell_type": "code",
   "execution_count": 36,
   "metadata": {},
   "outputs": [],
   "source": [
    "from data_parsers.custom_instance_parser import parse\n",
    "from plotting.drawer import plot_gantt_chart\n",
    "\n",
    "from solution_methods.GA.src.initialization import initialize_run\n",
    "from solution_methods.GA.run_GA import run_GA\n",
    "from solution_methods.CP_SAT.run_cp_sat import run_CP_SAT\n",
    "from scheduling_environment import jobShop, machine, operation, job"
   ]
  },
  {
   "cell_type": "code",
   "execution_count": 37,
   "metadata": {},
   "outputs": [],
   "source": [
    "j = jobShop.JobShop()\n",
    "j.set_instance_name('test')"
   ]
  },
  {
   "cell_type": "code",
   "execution_count": 38,
   "metadata": {},
   "outputs": [],
   "source": [
    "h1 = jobShop.Job(0)\n",
    "h2 = jobShop.Job(1)"
   ]
  },
  {
   "cell_type": "code",
   "execution_count": 39,
   "metadata": {},
   "outputs": [],
   "source": [
    "j.set_nr_of_machines(3)\n",
    "\n",
    "m0 = machine.Machine(0)\n",
    "m1 = machine.Machine(1)\n",
    "m2 = machine.Machine(2)\n",
    "j.add_machine(m0)\n",
    "j.add_machine(m1)\n",
    "j.add_machine(m2)"
   ]
  },
  {
   "cell_type": "code",
   "execution_count": null,
   "metadata": {},
   "outputs": [],
   "source": [
    "# job, job_id, operation_id\n",
    "o1 = operation.Operation(h1, h1.job_id, 0)\n",
    "# machineID durration\n",
    "\n",
    "# machine can  perform on either machine 0 or 1\n",
    "o1.add_operation_option(m1.machine_id, 2)\n",
    "o1.add_operation_option(m0.machine_id, 2)\n",
    "\n",
    "o2  = operation.Operation(h2, h2.job_id, 1)\n",
    "o2.add_operation_option(m0.machine_id, 2)\n",
    "\n",
    "o3 = operation.Operation(h2, h2.job_id, 2)\n",
    "o3.add_operation_option(m0.machine_id, 2)"
   ]
  },
  {
   "cell_type": "code",
   "execution_count": 41,
   "metadata": {},
   "outputs": [],
   "source": [
    "h1.add_operation(o1)\n",
    "j.add_operation(o1)\n",
    "j.add_job(h1)\n",
    "\n",
    "h2.add_operation(o2)\n",
    "h2.add_operation(o3)\n",
    "j.add_operation(o2)\n",
    "j.add_operation(o3)\n",
    "j.add_job(h2)\n",
    "\n",
    "j.set_nr_of_jobs(2)"
   ]
  },
  {
   "cell_type": "code",
   "execution_count": 42,
   "metadata": {},
   "outputs": [
    {
     "name": "stdout",
     "output_type": "stream",
     "text": [
      "Horizon = 6\n",
      "Solution 0, time = 0.005604 s, objective = 6\n",
      "Solution 1, time = 0.007081 s, objective = 4\n",
      "Solution:\n",
      "Optimal Schedule Length: 4.0\n"
     ]
    },
    {
     "data": {
      "image/png": "[encoded data removed]",
      "text/plain": [
       "<Figure size 864x432 with 1 Axes>"
      ]
     },
     "metadata": {
      "needs_background": "light"
     },
     "output_type": "display_data"
    }
   ],
   "source": [
    "parameters = {\"instance\": {\"problem_instance\": \"custom_problem_instance\"},\n",
    "             \"solver\": {\"time_limit\": 3600, \"model\": \"fjsp\"},\n",
    "             \"output\": {\"logbook\": True}\n",
    "             }\n",
    "\n",
    "results, jobShopEnv = run_CP_SAT(j, **parameters)\n",
    "\n",
    "plt = plot_gantt_chart(j)\n",
    "plt.show()"
   ]
  }
 ],
 "metadata": {
  "kernelspec": {
   "display_name": "env",
   "language": "python",
   "name": "python3"
  },
  "language_info": {
   "codemirror_mode": {
    "name": "ipython",
    "version": 3
   },
   "file_extension": ".py",
   "mimetype": "text/x-python",
   "name": "python",
   "nbconvert_exporter": "python",
   "pygments_lexer": "ipython3",
   "version": "3.10.12"
  }
 },
 "nbformat": 4,
 "nbformat_minor": 2
}
